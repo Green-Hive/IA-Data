{
 "cells": [
  {
   "cell_type": "code",
   "execution_count": 1,
   "metadata": {},
   "outputs": [
    {
     "name": "stdout",
     "output_type": "stream",
     "text": [
      "Requirement already satisfied: psycopg2 in c:\\users\\user\\documents\\projet epitech\\esp 700\\ia-data\\env\\lib\\site-packages (2.9.9)\n",
      "Note: you may need to restart the kernel to use updated packages.\n",
      "Requirement already satisfied: configparser in c:\\users\\user\\documents\\projet epitech\\esp 700\\ia-data\\env\\lib\\site-packages (7.0.0)\n",
      "Note: you may need to restart the kernel to use updated packages.\n",
      "Requirement already satisfied: configparser in c:\\users\\user\\documents\\projet epitech\\esp 700\\ia-data\\env\\lib\\site-packages (7.0.0)\n",
      "Note: you may need to restart the kernel to use updated packages.\n"
     ]
    }
   ],
   "source": [
    "%pip install psycopg2\n",
    "%pip install configparser\n",
    "%pip install configparser"
   ]
  },
  {
   "cell_type": "code",
   "execution_count": 135,
   "metadata": {},
   "outputs": [
    {
     "data": {
      "text/plain": [
       "['cred.ini']"
      ]
     },
     "execution_count": 135,
     "metadata": {},
     "output_type": "execute_result"
    }
   ],
   "source": [
    "import psycopg2\n",
    "import pandas as pd\n",
    "import configparser\n",
    "\n",
    "# Read and import environement variables from cred.ini\n",
    "config = configparser.ConfigParser()\n",
    "config.sections()\n",
    "\n",
    "config.read('cred.ini')\n"
   ]
  },
  {
   "cell_type": "code",
   "execution_count": 136,
   "metadata": {},
   "outputs": [],
   "source": [
    "#connect to source database on the cloud using cred.ini source variables\n",
    "db_source_conn = psycopg2.connect(\n",
    "    database=config['SOURCE']['database'], \n",
    "    user=config['SOURCE']['user'], \n",
    "    password=config['SOURCE']['password'], \n",
    "    host=config['SOURCE']['host'], \n",
    "    port= config['SOURCE']['port']\n",
    "    )\n",
    "\n",
    "db_source_cursor = db_source_conn.cursor()"
   ]
  },
  {
   "cell_type": "code",
   "execution_count": 137,
   "metadata": {},
   "outputs": [],
   "source": [
    "# Query to get all the data from the public.User table\n",
    "db_source_cursor.execute(\n",
    "    'select * from public.\"User\"'\n",
    "    )\n",
    "\n",
    "# fetch all data \n",
    "result_source_hive_user = db_source_cursor.fetchall()\n",
    "\n",
    "colnames = [desc[0] for desc in db_source_cursor.description]\n",
    "\n",
    "df_user = pd.DataFrame(result_source_hive_user, columns=colnames)\n",
    "df_user.to_csv('./New Data/user.csv',sep=';',index=False)"
   ]
  },
  {
   "cell_type": "code",
   "execution_count": 138,
   "metadata": {},
   "outputs": [],
   "source": [
    "# Query to get all the data from the public.Hive_Data table\n",
    "db_source_cursor.execute(\n",
    "    'select * from public.\"HiveData\"'\n",
    "    )\n",
    "\n",
    "# fetch all data \n",
    "result_source_hive_data = db_source_cursor.fetchall()\n",
    "\n",
    "colnames = [desc[0] for desc in db_source_cursor.description]\n",
    "\n",
    "df_hive_data = pd.DataFrame(result_source_hive_data, columns=colnames)\n",
    "df_hive_data.to_csv('./New Data/hive_data.csv',sep=';',index=False)"
   ]
  },
  {
   "cell_type": "code",
   "execution_count": 139,
   "metadata": {},
   "outputs": [],
   "source": [
    "# Query to get all the data from the public.Hive table\n",
    "db_source_cursor.execute(\n",
    "    'select * from public.\"Hive\"'\n",
    "    )\n",
    "\n",
    "# fetch all data \n",
    "result_source_hive = db_source_cursor.fetchall()\n",
    "\n",
    "colnames = [desc[0] for desc in db_source_cursor.description]\n",
    "\n",
    "df_hive = pd.DataFrame(result_source_hive, columns=colnames)\n",
    "df_hive.to_csv('./New Data/hive.csv',sep=';',index=False)"
   ]
  },
  {
   "cell_type": "code",
   "execution_count": 140,
   "metadata": {},
   "outputs": [],
   "source": [
    "# Query to get all the data from the public.Hive table\n",
    "db_source_cursor.execute(\n",
    "    'select * from public.\"Session\"'\n",
    "    )\n",
    "\n",
    "# fetch all data \n",
    "result_source_session = db_source_cursor.fetchall()\n",
    "\n",
    "colnames = [desc[0] for desc in db_source_cursor.description]\n",
    "\n",
    "df_session = pd.DataFrame(result_source_session, columns=colnames)\n",
    "df_session.to_csv('./New Data/session.csv',sep=';',index=False)"
   ]
  },
  {
   "cell_type": "code",
   "execution_count": 157,
   "metadata": {},
   "outputs": [
    {
     "data": {
      "text/plain": [
       "0    {'cookie': {'originalMaxAge': 7200000, 'expire...\n",
       "Name: sess, dtype: object"
      ]
     },
     "execution_count": 157,
     "metadata": {},
     "output_type": "execute_result"
    }
   ],
   "source": [
    "df_session['sess']"
   ]
  },
  {
   "cell_type": "code",
   "execution_count": 141,
   "metadata": {},
   "outputs": [],
   "source": [
    "db_source_conn.close()"
   ]
  },
  {
   "cell_type": "code",
   "execution_count": 146,
   "metadata": {},
   "outputs": [],
   "source": [
    "db_target_conn = psycopg2.connect(\n",
    "    database=config['TARGET']['database'], \n",
    "    user=config['TARGET']['user'], \n",
    "    password= \"I'llbethere4U\" ,\n",
    "    host=config['TARGET']['host'], \n",
    "    port= config['TARGET']['port'],\n",
    "    options=f\"-c search_path=dbo,{config['TARGET']['schema']}\"\n",
    "    )\n",
    "\n",
    "db_target_cursor = db_target_conn.cursor()"
   ]
  },
  {
   "cell_type": "code",
   "execution_count": 147,
   "metadata": {},
   "outputs": [
    {
     "name": "stdout",
     "output_type": "stream",
     "text": [
      "Requêtes exécutées avec succès.\n"
     ]
    }
   ],
   "source": [
    "file_path = \"queries.sql\"\n",
    "\n",
    "try:\n",
    "    # Lire les requêtes SQL depuis le fichier\n",
    "    with open(file_path, \"r\") as file:\n",
    "        queries = file.read()\n",
    "\n",
    "    # Exécuter les requêtes SQL\n",
    "    db_target_cursor.execute(queries)\n",
    "    db_target_conn.commit()\n",
    "    print(\"Requêtes exécutées avec succès.\")\n",
    "except (Exception, psycopg2.DatabaseError) as error:\n",
    "    print(f\"Erreur: {error}\")\n",
    "    db_target_conn.rollback()\n",
    "finally:\n",
    "    # Fermer le curseur et la connexion\n",
    "    db_target_cursor.close()\n"
   ]
  },
  {
   "cell_type": "code",
   "execution_count": 148,
   "metadata": {},
   "outputs": [],
   "source": [
    "def copy_from_csv(conn, table_name, csv_file_path):\n",
    "    with conn.cursor() as cursor:\n",
    "        try:\n",
    "            with open(csv_file_path, 'r') as f:\n",
    "                cursor.copy_expert(f\"COPY {table_name} FROM STDIN WITH CSV HEADER DELIMITER ';'\", f)\n",
    "            conn.commit()\n",
    "            print(f\"Data copied successfully from {csv_file_path} to {table_name}.\")\n",
    "        except (Exception, psycopg2.DatabaseError) as error:\n",
    "            print(f\"Error: {error}\")\n",
    "            conn.rollback()"
   ]
  },
  {
   "cell_type": "code",
   "execution_count": 149,
   "metadata": {},
   "outputs": [],
   "source": [
    "db_target_cursor = db_target_conn.cursor()"
   ]
  },
  {
   "cell_type": "code",
   "execution_count": null,
   "metadata": {},
   "outputs": [],
   "source": [
    "'oLkQwZp-fJRDa-ePxIY2QqIs2G6h1SAA'\n",
    "\n",
    "a = {\n",
    "    'cookie': {'originalMaxAge': 7200000, 'expires': '2024-05-24T15:33:24.316Z', 'secure': False, 'httpOnly': True, 'path': '/', 'sameSite': 'lax'}, 'userId': '01c02394-8662-442b-8d20-8af9ee75ab9d'}\n",
    "b = '2024-05-24 15:33:25'\n"
   ]
  },
  {
   "cell_type": "code",
   "execution_count": 151,
   "metadata": {},
   "outputs": [
    {
     "name": "stdout",
     "output_type": "stream",
     "text": [
      "Data copied successfully from .\\New Data\\user.csv to \"user\".\n"
     ]
    }
   ],
   "source": [
    "copy_from_csv(db_target_conn, '\"user\"', r\".\\New Data\\user.csv\")"
   ]
  },
  {
   "cell_type": "code",
   "execution_count": 152,
   "metadata": {},
   "outputs": [
    {
     "name": "stdout",
     "output_type": "stream",
     "text": [
      "Data copied successfully from .\\New Data\\hive.csv to \"hive\".\n"
     ]
    }
   ],
   "source": [
    "copy_from_csv(db_target_conn, '\"hive\"', r\".\\New Data\\hive.csv\")"
   ]
  },
  {
   "cell_type": "code",
   "execution_count": 153,
   "metadata": {},
   "outputs": [
    {
     "name": "stdout",
     "output_type": "stream",
     "text": [
      "Data copied successfully from .\\New Data\\hive_data.csv to \"hive_data\".\n"
     ]
    }
   ],
   "source": [
    "copy_from_csv(db_target_conn, '\"hive_data\"', r\".\\New Data\\hive_data.csv\")\n"
   ]
  },
  {
   "cell_type": "code",
   "execution_count": 154,
   "metadata": {},
   "outputs": [
    {
     "name": "stdout",
     "output_type": "stream",
     "text": [
      "Error: invalid input syntax for type json\n",
      "DETAIL:  Token \"'\" is invalid.\n",
      "CONTEXT:  JSON data, line 1: {'...\n",
      "COPY session, line 2, column sess: \"{'cookie': {'originalMaxAge': 7200000, 'expires': '2024-05-24T15:33:24.316Z', 'secure': False, 'http...\"\n",
      "\n"
     ]
    }
   ],
   "source": [
    "copy_from_csv(db_target_conn, '\"session\"', r\".\\New Data\\session.csv\")\n"
   ]
  },
  {
   "cell_type": "code",
   "execution_count": 83,
   "metadata": {},
   "outputs": [
    {
     "ename": "NameError",
     "evalue": "name 'user_data' is not defined",
     "output_type": "error",
     "traceback": [
      "\u001b[1;31m---------------------------------------------------------------------------\u001b[0m",
      "\u001b[1;31mNameError\u001b[0m                                 Traceback (most recent call last)",
      "Cell \u001b[1;32mIn[83], line 1\u001b[0m\n\u001b[1;32m----> 1\u001b[0m db_target_cursor\u001b[38;5;241m.\u001b[39mexecute(\u001b[43muser_data\u001b[49m)\n",
      "\u001b[1;31mNameError\u001b[0m: name 'user_data' is not defined"
     ]
    }
   ],
   "source": [
    "db_target_cursor.execute(user_data)"
   ]
  },
  {
   "cell_type": "code",
   "execution_count": 70,
   "metadata": {},
   "outputs": [],
   "source": [
    "db_target_cursor.execute(\"ROLLBACK\")\n",
    "db_target_conn.close()\n"
   ]
  },
  {
   "cell_type": "code",
   "execution_count": 63,
   "metadata": {},
   "outputs": [],
   "source": [
    "db_target_cursor.execute(create_lake)\n",
    "db_target_conn.commit()"
   ]
  },
  {
   "cell_type": "code",
   "execution_count": 12,
   "metadata": {},
   "outputs": [],
   "source": []
  },
  {
   "cell_type": "code",
   "execution_count": 54,
   "metadata": {},
   "outputs": [],
   "source": [
    "\n",
    "db_target_cursor.close()\n",
    "db_target_cursor = db_target_conn.cursor()"
   ]
  },
  {
   "cell_type": "code",
   "execution_count": 30,
   "metadata": {},
   "outputs": [
    {
     "ename": "InFailedSqlTransaction",
     "evalue": "current transaction is aborted, commands ignored until end of transaction block\n",
     "output_type": "error",
     "traceback": [
      "\u001b[1;31m---------------------------------------------------------------------------\u001b[0m",
      "\u001b[1;31mInFailedSqlTransaction\u001b[0m                    Traceback (most recent call last)",
      "Cell \u001b[1;32mIn[30], line 1\u001b[0m\n\u001b[1;32m----> 1\u001b[0m \u001b[43mdb_target_cursor\u001b[49m\u001b[38;5;241;43m.\u001b[39;49m\u001b[43mexecute\u001b[49m\u001b[43m(\u001b[49m\u001b[38;5;124;43m\"\u001b[39;49m\u001b[38;5;124;43mCREATE EXTENSION IF NOT EXISTS \u001b[39;49m\u001b[38;5;130;43;01m\\\"\u001b[39;49;00m\u001b[38;5;124;43muuid-ossp\u001b[39;49m\u001b[38;5;130;43;01m\\\"\u001b[39;49;00m\u001b[38;5;124;43m;\u001b[39;49m\u001b[38;5;124;43m\"\u001b[39;49m\u001b[43m)\u001b[49m\n",
      "\u001b[1;31mInFailedSqlTransaction\u001b[0m: current transaction is aborted, commands ignored until end of transaction block\n"
     ]
    }
   ],
   "source": [
    "\n",
    "db_target_cursor.execute(\"CREATE EXTENSION IF NOT EXISTS \\\"uuid-ossp\\\";\")\n",
    "db_target_conn.commit()"
   ]
  },
  {
   "cell_type": "code",
   "execution_count": 32,
   "metadata": {},
   "outputs": [
    {
     "ename": "InFailedSqlTransaction",
     "evalue": "current transaction is aborted, commands ignored until end of transaction block\n",
     "output_type": "error",
     "traceback": [
      "\u001b[1;31m---------------------------------------------------------------------------\u001b[0m",
      "\u001b[1;31mInFailedSqlTransaction\u001b[0m                    Traceback (most recent call last)",
      "Cell \u001b[1;32mIn[32], line 1\u001b[0m\n\u001b[1;32m----> 1\u001b[0m \u001b[43mdb_target_cursor\u001b[49m\u001b[38;5;241;43m.\u001b[39;49m\u001b[43mexecute\u001b[49m\u001b[43m(\u001b[49m\u001b[43mcreate_table_user\u001b[49m\u001b[43m)\u001b[49m\n",
      "\u001b[1;31mInFailedSqlTransaction\u001b[0m: current transaction is aborted, commands ignored until end of transaction block\n"
     ]
    }
   ],
   "source": [
    "db_target_cursor.execute(create_table_user)\n"
   ]
  },
  {
   "cell_type": "code",
   "execution_count": 40,
   "metadata": {},
   "outputs": [],
   "source": [
    "\n",
    "db_target_conn.commit()\n"
   ]
  },
  {
   "cell_type": "code",
   "execution_count": 43,
   "metadata": {},
   "outputs": [
    {
     "ename": "InFailedSqlTransaction",
     "evalue": "current transaction is aborted, commands ignored until end of transaction block\n",
     "output_type": "error",
     "traceback": [
      "\u001b[1;31m---------------------------------------------------------------------------\u001b[0m",
      "\u001b[1;31mInFailedSqlTransaction\u001b[0m                    Traceback (most recent call last)",
      "Cell \u001b[1;32mIn[43], line 1\u001b[0m\n\u001b[1;32m----> 1\u001b[0m \u001b[43mdb_target_cursor\u001b[49m\u001b[38;5;241;43m.\u001b[39;49m\u001b[43mexecute\u001b[49m\u001b[43m(\u001b[49m\u001b[43mcreate_enum_provider\u001b[49m\u001b[43m)\u001b[49m\n",
      "\u001b[1;31mInFailedSqlTransaction\u001b[0m: current transaction is aborted, commands ignored until end of transaction block\n"
     ]
    }
   ],
   "source": [
    "db_target_cursor.execute(create_enum_provider)"
   ]
  },
  {
   "cell_type": "code",
   "execution_count": 34,
   "metadata": {},
   "outputs": [
    {
     "name": "stdout",
     "output_type": "stream",
     "text": [
      "Error: current transaction is aborted, commands ignored until end of transaction block\n",
      "\n"
     ]
    }
   ],
   "source": [
    "#db_target_cursor.execute(drop_table_hive)\n",
    "\n",
    "\n",
    "try:\n",
    "    # Démarrer une transaction\n",
    "    db_target_cursor.execute(\"BEGIN;\")\n",
    "    \n",
    "    # Créer les types enum\n",
    "    db_target_cursor.execute(create_enum_role)\n",
    "    db_target_cursor.execute(create_enum_provider)\n",
    "    db_target_cursor.execute(create_enum_status)\n",
    "\n",
    "    # db_target_cursor.execute(create_table_hive)\n",
    "    # db_target_conn.commit()\n",
    "    # db_target_cursor.execute(create_table_hive_data)\n",
    "    # db_target_conn.commit()\n",
    "    # db_target_cursor.execute(create_table_session)\n",
    "    # db_target_conn.commit()\n",
    "\n",
    "    # Commits les changements\n",
    "except (Exception, psycopg2.DatabaseError) as error:\n",
    "    print(f\"Error: {error}\")\n",
    "    # Rollback en cas d'erreur\n",
    "    db_target_conn.rollback()\n",
    "finally:\n",
    "    # Fermer le curseur et la connexion\n",
    "    db_target_cursor.close()\n",
    "    #db_target_conn.close()\n",
    "\n",
    "\n"
   ]
  },
  {
   "cell_type": "code",
   "execution_count": null,
   "metadata": {},
   "outputs": [],
   "source": [
    "with open('hive_data.csv', 'r') as f:\n",
    "    next(f) # Skip the header row.\n",
    "    db_target_cursor.copy_from(f, 'hive', sep=';')"
   ]
  }
 ],
 "metadata": {
  "kernelspec": {
   "display_name": "env",
   "language": "python",
   "name": "python3"
  },
  "language_info": {
   "codemirror_mode": {
    "name": "ipython",
    "version": 3
   },
   "file_extension": ".py",
   "mimetype": "text/x-python",
   "name": "python",
   "nbconvert_exporter": "python",
   "pygments_lexer": "ipython3",
   "version": "3.11.0"
  }
 },
 "nbformat": 4,
 "nbformat_minor": 2
}

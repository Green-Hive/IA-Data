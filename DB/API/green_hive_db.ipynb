{
 "cells": [
  {
   "cell_type": "code",
   "execution_count": 72,
   "metadata": {},
   "outputs": [],
   "source": [
    "import psycopg2\n",
    "import pandas as pd\n",
    "import configparser\n",
    "\n",
    "# Read and import environement variables from cred.ini\n",
    "config = configparser.ConfigParser()\n",
    "config.sections()\n",
    "\n",
    "config.read('cred.ini')\n",
    "\n",
    "#connect to source database on the cloud using cred.ini source variables\n",
    "db_source_conn = psycopg2.connect(\n",
    "    database=config['SOURCE']['database'], \n",
    "    user=config['SOURCE']['user'], \n",
    "    password=config['SOURCE']['password'], \n",
    "    host=config['SOURCE']['host'], \n",
    "    port= config['SOURCE']['port']\n",
    "    )\n",
    "\n",
    "db_source_cursor = db_source_conn.cursor()\n",
    "\n",
    "# Query to get all the data from the public.Hive table\n",
    "db_source_cursor.execute(\n",
    "    'select * from public.\"Hive\"'\n",
    "    )\n",
    "\n",
    "# fetch all data \n",
    "result_source = db_source_cursor.fetchall()"
   ]
  },
  {
   "cell_type": "code",
   "execution_count": 75,
   "metadata": {},
   "outputs": [
    {
     "data": {
      "text/html": [
       "<div>\n",
       "<style scoped>\n",
       "    .dataframe tbody tr th:only-of-type {\n",
       "        vertical-align: middle;\n",
       "    }\n",
       "\n",
       "    .dataframe tbody tr th {\n",
       "        vertical-align: top;\n",
       "    }\n",
       "\n",
       "    .dataframe thead th {\n",
       "        text-align: right;\n",
       "    }\n",
       "</style>\n",
       "<table border=\"1\" class=\"dataframe\">\n",
       "  <thead>\n",
       "    <tr style=\"text-align: right;\">\n",
       "      <th></th>\n",
       "      <th>id</th>\n",
       "      <th>createdAt</th>\n",
       "      <th>updatedAt</th>\n",
       "      <th>description</th>\n",
       "      <th>userId</th>\n",
       "      <th>name</th>\n",
       "    </tr>\n",
       "  </thead>\n",
       "  <tbody>\n",
       "    <tr>\n",
       "      <th>0</th>\n",
       "      <td>87067d94-dc50-4afd-8c0d-be41ce483092</td>\n",
       "      <td>2024-05-23 11:26:17.608</td>\n",
       "      <td>2024-05-23 11:26:17.608</td>\n",
       "      <td>my hive description</td>\n",
       "      <td>28b03d65-6603-4eb6-b67d-81bb721213e0</td>\n",
       "      <td>my hive</td>\n",
       "    </tr>\n",
       "    <tr>\n",
       "      <th>1</th>\n",
       "      <td>44b3fa36-a548-454a-8925-c46e08d159d9</td>\n",
       "      <td>2024-05-23 11:27:59.659</td>\n",
       "      <td>2024-05-23 11:27:59.659</td>\n",
       "      <td>my hive description</td>\n",
       "      <td>28b03d65-6603-4eb6-b67d-81bb721213e0</td>\n",
       "      <td>ruche2</td>\n",
       "    </tr>\n",
       "  </tbody>\n",
       "</table>\n",
       "</div>"
      ],
      "text/plain": [
       "                                     id               createdAt  \\\n",
       "0  87067d94-dc50-4afd-8c0d-be41ce483092 2024-05-23 11:26:17.608   \n",
       "1  44b3fa36-a548-454a-8925-c46e08d159d9 2024-05-23 11:27:59.659   \n",
       "\n",
       "                updatedAt          description  \\\n",
       "0 2024-05-23 11:26:17.608  my hive description   \n",
       "1 2024-05-23 11:27:59.659  my hive description   \n",
       "\n",
       "                                 userId     name  \n",
       "0  28b03d65-6603-4eb6-b67d-81bb721213e0  my hive  \n",
       "1  28b03d65-6603-4eb6-b67d-81bb721213e0   ruche2  "
      ]
     },
     "execution_count": 75,
     "metadata": {},
     "output_type": "execute_result"
    }
   ],
   "source": [
    "df_hive = pd.DataFrame(result_source, columns=['id','createdAt','updatedAt','description','userId','name'])\n",
    "df_hive.to_csv('./New Data/hive_data.csv',sep=';')\n",
    "df_hive.tail()"
   ]
  },
  {
   "cell_type": "code",
   "execution_count": 86,
   "metadata": {},
   "outputs": [],
   "source": [
    "db_source_conn.close()"
   ]
  },
  {
   "cell_type": "code",
   "execution_count": 94,
   "metadata": {},
   "outputs": [
    {
     "ename": "UndefinedColumn",
     "evalue": "column \"id\" referenced in foreign key constraint does not exist\n",
     "output_type": "error",
     "traceback": [
      "\u001b[1;31m---------------------------------------------------------------------------\u001b[0m",
      "\u001b[1;31mUndefinedColumn\u001b[0m                           Traceback (most recent call last)",
      "Cell \u001b[1;32mIn[94], line 27\u001b[0m\n\u001b[0;32m     13\u001b[0m create_table_hive \u001b[38;5;241m=\u001b[39m \u001b[38;5;124m\"\"\"\u001b[39m\n\u001b[0;32m     14\u001b[0m \u001b[38;5;124m    CREATE TABLE lake.hive (\u001b[39m\n\u001b[0;32m     15\u001b[0m \u001b[38;5;124m    id TEXT PRIMARY KEY NOT NULL,\u001b[39m\n\u001b[1;32m   (...)\u001b[0m\n\u001b[0;32m     22\u001b[0m \u001b[38;5;124m);\u001b[39m\n\u001b[0;32m     23\u001b[0m \u001b[38;5;124m\"\"\"\u001b[39m\n\u001b[0;32m     25\u001b[0m db_target_cursor\u001b[38;5;241m.\u001b[39mexecute(drop_table_hive)\n\u001b[1;32m---> 27\u001b[0m \u001b[43mdb_target_cursor\u001b[49m\u001b[38;5;241;43m.\u001b[39;49m\u001b[43mexecute\u001b[49m\u001b[43m(\u001b[49m\u001b[43mcreate_table_hive\u001b[49m\u001b[43m)\u001b[49m\n\u001b[0;32m     29\u001b[0m db_target_conn\u001b[38;5;241m.\u001b[39mcommit()\n\u001b[0;32m     32\u001b[0m result_target \u001b[38;5;241m=\u001b[39m db_target_cursor\u001b[38;5;241m.\u001b[39mfetchall()\n",
      "\u001b[1;31mUndefinedColumn\u001b[0m: column \"id\" referenced in foreign key constraint does not exist\n"
     ]
    }
   ],
   "source": [
    "db_target_conn = psycopg2.connect(\n",
    "    database=config['TARGET']['database'], \n",
    "    user=config['TARGET']['user'], \n",
    "    password= \"I'llbethere4U\" ,\n",
    "    host=config['TARGET']['host'], \n",
    "    port= config['TARGET']['port']\n",
    "    )\n",
    "\n",
    "\n",
    "\n",
    "\n",
    "db_target_cursor = db_target_conn.cursor()\n",
    "\n",
    "\n",
    "\n",
    "drop_table_hive = \"\"\" \n",
    "    ALTER TABLE lake.hive_data DROP CONSTRAINT hive_data_hive_id_fkey; \n",
    "    DROP TABLE lake.hive \n",
    "\"\"\"\n",
    "\n",
    "drop_table_user= \"\"\" \n",
    "    ALTER TABLE lake.hive_data DROP CONSTRAINT hive_data_hive_id_fkey;\n",
    "    DROP TABLE lake.hive \n",
    "\"\"\"\n",
    "\n",
    "drop_table_hive_data = \"\"\" \n",
    "    ALTER TABLE lake.hive_data DROP CONSTRAINT hive_data_hive_id_fkey; \n",
    "    DROP TABLE lake.hive \n",
    "\"\"\"\n",
    "\n",
    "#drop_table_session = \"\"\" \n",
    "#     ALTER TABLE lake.hive_data DROP CONSTRAINT hive_data_hive_id_fkey; \n",
    "#     DROP TABLE lake.hive \n",
    "# \"\"\"\n",
    "\n",
    "\n",
    "\n",
    "\n",
    "\n",
    "create_table_hive = \"\"\"\n",
    "    CREATE TABLE lake.hive (\n",
    "    id TEXT PRIMARY KEY NOT NULL,\n",
    "    userid TEXT,\n",
    "    name TEXT,\n",
    "    createdat TIMESTAMP,\n",
    "    updatedat TIMESTAMP,\n",
    "    description TEXT,\n",
    "    FOREIGN KEY (userid) REFERENCES users(id)\n",
    ");\n",
    "\"\"\"\n",
    "\n",
    "db_target_cursor.execute(drop_table_hive)\n",
    "\n",
    "db_target_cursor.execute(create_table_hive)\n",
    "\n",
    "db_target_conn.commit()\n",
    "\n",
    "\n",
    "result_target = db_target_cursor.fetchall()\n"
   ]
  },
  {
   "cell_type": "code",
   "execution_count": 57,
   "metadata": {},
   "outputs": [
    {
     "data": {
      "text/plain": [
       "[]"
      ]
     },
     "execution_count": 57,
     "metadata": {},
     "output_type": "execute_result"
    }
   ],
   "source": [
    "result_target"
   ]
  },
  {
   "cell_type": "code",
   "execution_count": 85,
   "metadata": {},
   "outputs": [
    {
     "ename": "InFailedSqlTransaction",
     "evalue": "current transaction is aborted, commands ignored until end of transaction block\n",
     "output_type": "error",
     "traceback": [
      "\u001b[1;31m---------------------------------------------------------------------------\u001b[0m",
      "\u001b[1;31mInFailedSqlTransaction\u001b[0m                    Traceback (most recent call last)",
      "Cell \u001b[1;32mIn[85], line 3\u001b[0m\n\u001b[0;32m      1\u001b[0m \u001b[38;5;28;01mwith\u001b[39;00m \u001b[38;5;28mopen\u001b[39m(\u001b[38;5;124m'\u001b[39m\u001b[38;5;124mhive_data.csv\u001b[39m\u001b[38;5;124m'\u001b[39m, \u001b[38;5;124m'\u001b[39m\u001b[38;5;124mr\u001b[39m\u001b[38;5;124m'\u001b[39m) \u001b[38;5;28;01mas\u001b[39;00m f:\n\u001b[0;32m      2\u001b[0m     \u001b[38;5;28mnext\u001b[39m(f) \u001b[38;5;66;03m# Skip the header row.\u001b[39;00m\n\u001b[1;32m----> 3\u001b[0m     \u001b[43mdb_target_cursor\u001b[49m\u001b[38;5;241;43m.\u001b[39;49m\u001b[43mcopy_from\u001b[49m\u001b[43m(\u001b[49m\u001b[43mf\u001b[49m\u001b[43m,\u001b[49m\u001b[43m \u001b[49m\u001b[38;5;124;43m'\u001b[39;49m\u001b[38;5;124;43mhive\u001b[39;49m\u001b[38;5;124;43m'\u001b[39;49m\u001b[43m,\u001b[49m\u001b[43m \u001b[49m\u001b[43msep\u001b[49m\u001b[38;5;241;43m=\u001b[39;49m\u001b[38;5;124;43m'\u001b[39;49m\u001b[38;5;124;43m;\u001b[39;49m\u001b[38;5;124;43m'\u001b[39;49m\u001b[43m)\u001b[49m\n",
      "\u001b[1;31mInFailedSqlTransaction\u001b[0m: current transaction is aborted, commands ignored until end of transaction block\n"
     ]
    }
   ],
   "source": [
    "with open('hive_data.csv', 'r') as f:\n",
    "    next(f) # Skip the header row.\n",
    "    db_target_cursor.copy_from(f, 'hive', sep=';')\n",
    "\n"
   ]
  }
 ],
 "metadata": {
  "kernelspec": {
   "display_name": "env",
   "language": "python",
   "name": "python3"
  },
  "language_info": {
   "codemirror_mode": {
    "name": "ipython",
    "version": 3
   },
   "file_extension": ".py",
   "mimetype": "text/x-python",
   "name": "python",
   "nbconvert_exporter": "python",
   "pygments_lexer": "ipython3",
   "version": "3.11.0"
  }
 },
 "nbformat": 4,
 "nbformat_minor": 2
}

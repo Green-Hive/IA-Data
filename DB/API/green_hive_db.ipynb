{
 "cells": [
  {
   "cell_type": "code",
   "execution_count": null,
   "metadata": {},
   "outputs": [],
   "source": [
    "%pip install psycopg2\n",
    "%pip install configparser\n",
    "%pip install pandas"
   ]
  },
  {
   "cell_type": "code",
   "execution_count": null,
   "metadata": {},
   "outputs": [],
   "source": [
    "import psycopg2\n",
    "import pandas as pd\n",
    "import configparser\n",
    "\n",
    "# Read and import environement variables from cred.ini\n",
    "config = configparser.ConfigParser()\n",
    "config.sections()\n",
    "\n",
    "config.read('cred.ini')\n"
   ]
  },
  {
   "cell_type": "code",
   "execution_count": null,
   "metadata": {},
   "outputs": [],
   "source": [
    "#connect to source database on the cloud using cred.ini source variables\n",
    "db_source_conn = psycopg2.connect(\n",
    "    database=config['SOURCE']['database'], \n",
    "    user=config['SOURCE']['user'], \n",
    "    password=config['SOURCE']['password'], \n",
    "    host=config['SOURCE']['host'], \n",
    "    port= config['SOURCE']['port']\n",
    "    )\n",
    "\n",
    "db_source_cursor = db_source_conn.cursor()"
   ]
  },
  {
   "cell_type": "code",
   "execution_count": null,
   "metadata": {},
   "outputs": [],
   "source": [
    "# Query to get all the data from the public.User table\n",
    "db_source_cursor.execute(\n",
    "    'select * from public.\"User\"'\n",
    "    )\n",
    "\n",
    "# fetch all data \n",
    "result_source_hive_user = db_source_cursor.fetchall()\n",
    "\n",
    "colnames = [desc[0] for desc in db_source_cursor.description]\n",
    "\n",
    "df_user = pd.DataFrame(result_source_hive_user, columns=colnames)\n",
    "df_user.to_csv('./New Data/user.csv',sep=';',index=False)"
   ]
  },
  {
   "cell_type": "code",
   "execution_count": null,
   "metadata": {},
   "outputs": [],
   "source": [
    "# Query to get all the data from the public.Hive_Data table\n",
    "db_source_cursor.execute(\n",
    "    'select * from public.\"HiveData\"'\n",
    "    )\n",
    "\n",
    "# fetch all data \n",
    "result_source_hive_data = db_source_cursor.fetchall()\n",
    "\n",
    "colnames = [desc[0] for desc in db_source_cursor.description]\n",
    "\n",
    "df_hive_data = pd.DataFrame(result_source_hive_data, columns=colnames)\n",
    "df_hive_data.to_csv('./New Data/hive_data.csv',sep=';',index=False)"
   ]
  },
  {
   "cell_type": "code",
   "execution_count": null,
   "metadata": {},
   "outputs": [],
   "source": [
    "# Query to get all the data from the public.Hive table\n",
    "db_source_cursor.execute(\n",
    "    'select * from public.\"Hive\"'\n",
    "    )\n",
    "\n",
    "# fetch all data \n",
    "result_source_hive = db_source_cursor.fetchall()\n",
    "\n",
    "colnames = [desc[0] for desc in db_source_cursor.description]\n",
    "\n",
    "df_hive = pd.DataFrame(result_source_hive, columns=colnames)\n",
    "df_hive.to_csv('./New Data/hive.csv',sep=';',index=False)"
   ]
  },
  {
   "cell_type": "code",
   "execution_count": null,
   "metadata": {},
   "outputs": [],
   "source": [
    "# Query to get all the data from the public.Hive table\n",
    "db_source_cursor.execute(\n",
    "    'select * from public.\"Session\"'\n",
    "    )\n",
    "\n",
    "# fetch all data \n",
    "result_source_session = db_source_cursor.fetchall()\n",
    "\n",
    "colnames = [desc[0] for desc in db_source_cursor.description]\n",
    "\n",
    "df_session = pd.DataFrame(result_source_session, columns=colnames)\n",
    "df_session.to_csv('./New Data/session.csv',sep=';',index=False)"
   ]
  },
  {
   "cell_type": "code",
   "execution_count": null,
   "metadata": {},
   "outputs": [],
   "source": [
    "df_session['sess']"
   ]
  },
  {
   "cell_type": "code",
   "execution_count": null,
   "metadata": {},
   "outputs": [],
   "source": [
    "db_source_conn.close()"
   ]
  },
  {
   "cell_type": "code",
   "execution_count": null,
   "metadata": {},
   "outputs": [],
   "source": [
    "db_target_conn = psycopg2.connect(\n",
    "    database=config['TARGET']['database'], \n",
    "    user=config['TARGET']['user'], \n",
    "    password= \"I'llbethere4U\" ,\n",
    "    host=config['TARGET']['host'], \n",
    "    port= config['TARGET']['port'],\n",
    "    options=f\"-c search_path=dbo,{config['TARGET']['schema']}\"\n",
    "    )\n",
    "\n",
    "db_target_cursor = db_target_conn.cursor()"
   ]
  },
  {
   "cell_type": "code",
   "execution_count": null,
   "metadata": {},
   "outputs": [],
   "source": [
    "file_path = \"queries.sql\"\n",
    "\n",
    "try:\n",
    "    # Lire les requêtes SQL depuis le fichier\n",
    "    with open(file_path, \"r\") as file:\n",
    "        queries = file.read()\n",
    "\n",
    "    # Exécuter les requêtes SQL\n",
    "    db_target_cursor.execute(queries)\n",
    "    db_target_conn.commit()\n",
    "    print(\"Requêtes exécutées avec succès.\")\n",
    "except (Exception, psycopg2.DatabaseError) as error:\n",
    "    print(f\"Erreur: {error}\")\n",
    "    db_target_conn.rollback()\n",
    "finally:\n",
    "    # Fermer le curseur et la connexion\n",
    "    db_target_cursor.close()\n"
   ]
  },
  {
   "cell_type": "code",
   "execution_count": null,
   "metadata": {},
   "outputs": [],
   "source": [
    "def copy_from_csv(conn, table_name, csv_file_path):\n",
    "    with conn.cursor() as cursor:\n",
    "        try:\n",
    "            with open(csv_file_path, 'r') as f:\n",
    "                cursor.copy_expert(f\"COPY {table_name} FROM STDIN WITH CSV HEADER DELIMITER ';'\", f)\n",
    "            conn.commit()\n",
    "            print(f\"Data copied successfully from {csv_file_path} to {table_name}.\")\n",
    "        except (Exception, psycopg2.DatabaseError) as error:\n",
    "            print(f\"Error: {error}\")\n",
    "            conn.rollback()"
   ]
  },
  {
   "cell_type": "code",
   "execution_count": null,
   "metadata": {},
   "outputs": [],
   "source": [
    "db_target_cursor = db_target_conn.cursor()"
   ]
  },
  {
   "cell_type": "code",
   "execution_count": null,
   "metadata": {},
   "outputs": [],
   "source": [
    "'oLkQwZp-fJRDa-ePxIY2QqIs2G6h1SAA'\n",
    "\n",
    "a = {\n",
    "    'cookie': {'originalMaxAge': 7200000, 'expires': '2024-05-24T15:33:24.316Z', 'secure': False, 'httpOnly': True, 'path': '/', 'sameSite': 'lax'}, 'userId': '01c02394-8662-442b-8d20-8af9ee75ab9d'}\n",
    "b = '2024-05-24 15:33:25'\n"
   ]
  },
  {
   "cell_type": "code",
   "execution_count": null,
   "metadata": {},
   "outputs": [],
   "source": [
    "copy_from_csv(db_target_conn, '\"user\"', r\".\\New Data\\user.csv\")"
   ]
  },
  {
   "cell_type": "code",
   "execution_count": null,
   "metadata": {},
   "outputs": [],
   "source": [
    "copy_from_csv(db_target_conn, '\"hive\"', r\".\\New Data\\hive.csv\")"
   ]
  },
  {
   "cell_type": "code",
   "execution_count": null,
   "metadata": {},
   "outputs": [],
   "source": [
    "copy_from_csv(db_target_conn, '\"hive_data\"', r\".\\New Data\\hive_data.csv\")\n"
   ]
  },
  {
   "cell_type": "code",
   "execution_count": null,
   "metadata": {},
   "outputs": [],
   "source": [
    "copy_from_csv(db_target_conn, '\"session\"', r\".\\New Data\\session.csv\")\n"
   ]
  },
  {
   "cell_type": "code",
   "execution_count": null,
   "metadata": {},
   "outputs": [],
   "source": [
    "db_target_conn.close()"
   ]
  }
 ],
 "metadata": {
  "kernelspec": {
   "display_name": "env",
   "language": "python",
   "name": "python3"
  },
  "language_info": {
   "codemirror_mode": {
    "name": "ipython",
    "version": 3
   },
   "file_extension": ".py",
   "mimetype": "text/x-python",
   "name": "python",
   "nbconvert_exporter": "python",
   "pygments_lexer": "ipython3",
   "version": "3.11.0"
  }
 },
 "nbformat": 4,
 "nbformat_minor": 2
}
